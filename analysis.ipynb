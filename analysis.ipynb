{
 "cells": [
  {
   "cell_type": "markdown",
   "metadata": {},
   "source": [
    "# Small molecule generation\n",
    "\n",
    "Please make sure you've added your ANTHROPIC_API_KEY and MOLMIM_API_KEY to a .env file in the root of the project."
   ]
  },
  {
   "cell_type": "code",
   "execution_count": null,
   "metadata": {},
   "outputs": [],
   "source": [
    "import glob\n",
    "import os\n",
    "\n",
    "import matplotlib.pyplot as plt\n",
    "import numpy as np\n",
    "import pandas as pd\n",
    "import seaborn as sns\n",
    "from rdkit import Chem\n",
    "from rdkit.Chem import Descriptors\n",
    "\n",
    "from helpers.utils import (\n",
    "    PALETTE,\n",
    "    calculate_tanimoto_similarities,\n",
    "    canonicalize_and_validate_smiles,\n",
    "    compute_novelty_rates,\n",
    "    make_umap,\n",
    "    plot_boxenplot,\n",
    "    plot_umap,\n",
    "    process_rare_rings,\n",
    ")\n",
    "\n",
    "# Set random seed and helper functions\n",
    "SEED = 42\n",
    "ORDER = [\"original\", \"molmim\", \"claude\", \"claude_scaffold\", \"reinvent\", \"crem\"]\n",
    "DATASET_FILE = {\n",
    "    \"a2a\": \"data/adenosineA2A.csv\",\n",
    "    \"aryl\": \"data/Aryl piperazine.csv\",\n",
    "    \"sirt2\": \"data/SIRT2.csv\",\n",
    "}\n",
    "UMAP_RESULTS = os.path.join(\"results\", \"umap\")\n",
    "FIGURES = os.path.join(\"results\", \"figures\")\n",
    "os.makedirs(UMAP_RESULTS, exist_ok=True)\n",
    "os.makedirs(FIGURES, exist_ok=True)\n",
    "\n",
    "\n",
    "np.random.seed(SEED)"
   ]
  },
  {
   "cell_type": "markdown",
   "metadata": {},
   "source": [
    "### Post processing and data cleaning\n",
    "Join all the generated output together in one dataframe and remove any invalid SMILES strings."
   ]
  },
  {
   "cell_type": "code",
   "execution_count": null,
   "metadata": {},
   "outputs": [],
   "source": [
    "# Merge all data into a single DataFrame\n",
    "df = pd.concat([pd.read_csv(f) for f in glob.glob(\"output/*.csv\")])\n",
    "for dataset, file in DATASET_FILE.items():\n",
    "    d = pd.read_csv(file)[[\"Smiles\"]]\n",
    "    d[\"Dataset\"] = dataset\n",
    "    d[\"Model\"] = \"original\"\n",
    "    df = pd.concat([df, d])\n",
    "\n",
    "df[\"canonical smiles\"] = df[\"Smiles\"].apply(canonicalize_and_validate_smiles)\n",
    "df = df.dropna(subset=[\"canonical smiles\"])"
   ]
  },
  {
   "cell_type": "markdown",
   "metadata": {},
   "source": [
    "### Visual inspection of generated molecules\n",
    "Generate a visual grid of sample molecules from different models."
   ]
  },
  {
   "cell_type": "code",
   "execution_count": null,
   "metadata": {},
   "outputs": [],
   "source": [
    "subset = df[df[\"Dataset\"] == \"aryl\"]\n",
    "models = [\"original\", \"crem\", \"molmim\", \"claude\", \"claude_scaffold\", \"reinvent\"]\n",
    "\n",
    "samples = {model: subset[subset[\"Model\"] == model].sample(5, random_state=SEED)[\"Smiles\"].values for model in models}\n",
    "molecules = [Chem.MolFromSmiles(val) for tup in zip(*samples.values()) for val in tup]\n",
    "legends = [model.capitalize() if \"_\" not in model else model.replace(\"_\", \" \").capitalize() for model in models] * 5\n",
    "\n",
    "# Draw and save the grid image\n",
    "Chem.Draw.MolsToGridImage(molecules, molsPerRow=6, subImgSize=(300, 300), legends=legends)"
   ]
  },
  {
   "cell_type": "markdown",
   "metadata": {},
   "source": [
    "### Calculate Tanimoto Similarities\n",
    "Calculate Tanimoto similarity scores for the generated molecules compared to the original dataset molecules."
   ]
  },
  {
   "cell_type": "code",
   "execution_count": null,
   "metadata": {},
   "outputs": [],
   "source": [
    "# Calculate Tanimoto Similarities (~5 minutes)\n",
    "if not os.path.exists(os.path.join(\"results\", \"combined_with_tanimoto_scores.csv\")):\n",
    "    df[\"molwt\"] = df[\"canonical smiles\"].apply(lambda x: Descriptors.ExactMolWt(Chem.MolFromSmiles(x)))\n",
    "    df[\"qed\"] = df[\"canonical smiles\"].apply(lambda x: Descriptors.qed(Chem.MolFromSmiles(x)))\n",
    "    df[\"Tanimoto Score\"] = np.nan\n",
    "    for dataset in DATASET_FILE.keys():\n",
    "        tmp_df = df[df[\"Dataset\"] == dataset].copy()\n",
    "        original_smiles = tmp_df[tmp_df[\"Model\"] == \"original\"][\"canonical smiles\"].values\n",
    "        tmp_df[\"Tanimoto Score\"] = tmp_df[\"canonical smiles\"].apply(lambda smiles: np.max(calculate_tanimoto_similarities(smiles, original_smiles)))\n",
    "        df.loc[df[\"Dataset\"] == dataset, \"Tanimoto Score\"] = tmp_df[\"Tanimoto Score\"]\n",
    "    df.to_csv(os.path.join(\"results\", \"combined_with_tanimoto_scores.csv\"), index=False)\n",
    "else:\n",
    "    df = pd.read_csv(os.path.join(\"results\", \"combined_with_tanimoto_scores.csv\"))"
   ]
  },
  {
   "cell_type": "markdown",
   "metadata": {},
   "source": [
    "### Plot Tanimoto Similarity, Molecular Weight, and QED\n",
    "Generate boxen plots for Tanimoto similarity scores, molecular weight (MW), and quantitative estimate of drug-likeness (QED) across different models."
   ]
  },
  {
   "cell_type": "code",
   "execution_count": null,
   "metadata": {},
   "outputs": [],
   "source": [
    "plot_boxenplot(df, x='Dataset', y='Tanimoto Score', hue='Model', title='Tanimoto Similarity Score', order=ORDER)\n",
    "plt.savefig(os.path.join(\"results\", \"figures\", \"boxen_plot_tanimoto.png\"))\n",
    "\n",
    "plot_boxenplot(df, x='Dataset', y='molwt', hue='Model', title='MW', order=ORDER)\n",
    "plt.savefig(os.path.join(\"results\", \"figures\", \"boxen_plot_mw.png\"))\n",
    "\n",
    "plot_boxenplot(df, x='Dataset', y='qed', hue='Model', title='QED', order=ORDER)\n",
    "plt.savefig(os.path.join(\"results\", \"figures\", \"boxen_plot_qed.png\"))"
   ]
  },
  {
   "cell_type": "markdown",
   "metadata": {},
   "source": [
    "### Generate UMAP plots\n",
    "Create UMAP visualizations for different datasets."
   ]
  },
  {
   "cell_type": "code",
   "execution_count": null,
   "metadata": {},
   "outputs": [],
   "source": [
    "for dataset in DATASET_FILE.keys():\n",
    "    group = df[df[\"Dataset\"] == dataset]\n",
    "    make_umap(group['Smiles'], group['Model'], n_neighbors=100, dataset=dataset, results_dir=UMAP_RESULTS)"
   ]
  },
  {
   "cell_type": "markdown",
   "metadata": {},
   "source": [
    "### Plot UMAP results\n",
    "Visualize the UMAP results for the 'aryl' dataset."
   ]
  },
  {
   "cell_type": "code",
   "execution_count": null,
   "metadata": {},
   "outputs": [],
   "source": [
    "plot_umap('aryl', results_dir=UMAP_RESULTS)\n",
    "plt.savefig(os.path.join(FIGURES, 'umap_aryl.png'))"
   ]
  },
  {
   "cell_type": "markdown",
   "metadata": {},
   "source": [
    "### Compute and plot novelty rates\n",
    "Calculate and visualize the novelty rates for the generated molecules."
   ]
  },
  {
   "cell_type": "code",
   "execution_count": null,
   "metadata": {},
   "outputs": [],
   "source": [
    "path = os.path.join(\"results\", \"novelty_rates.csv\")\n",
    "if os.path.exists(path):\n",
    "    novelty_rates_df = pd.read_csv(path)\n",
    "else:\n",
    "    novelty_rates_df = compute_novelty_rates(df)\n",
    "    novelty_rates_df.to_csv(os.path.join(\"results\", \"novelty_rates.csv\"), index=False)"
   ]
  },
  {
   "cell_type": "code",
   "execution_count": null,
   "metadata": {},
   "outputs": [],
   "source": [
    "fig, ax = plt.subplots(1, 2, figsize=(11, 4))\n",
    "ax = ax.flatten()\n",
    "for i, y_type in enumerate(['Scaffold novelty rate', \"Skeleton novelty rate\"]):\n",
    "    sns.barplot(x='Model', y=y_type, data=novelty_rates_df, ax=ax[i], alpha=0.2, errorbar=None, color='#5359CC')\n",
    "    sns.swarmplot(x='Model', y=y_type, data=novelty_rates_df, color='#5359CC', ax=ax[i])\n",
    "    ax[i].set_title(y_type)\n",
    "    ax[i].set_ylabel(y_type)\n",
    "    ax[i].set_xlabel('Model')\n",
    "    ax[i].set_ylim(0, 1.1)\n",
    "    ax[i].set_xticklabels(ax[i].get_xticklabels(), rotation=90)\n",
    "plt.tight_layout()\n",
    "plt.savefig(os.path.join(FIGURES, 'novelty_rates.png'))"
   ]
  },
  {
   "cell_type": "markdown",
   "metadata": {},
   "source": [
    "### Process and visualize rare rings\n",
    "Analyze the presence of rare rings in the generated molecules and visualize the results."
   ]
  },
  {
   "cell_type": "code",
   "execution_count": null,
   "metadata": {},
   "outputs": [],
   "source": [
    "path = os.path.join(\"results\", \"rare_rings.csv\")\n",
    "if not os.path.exists(path):\n",
    "    df = process_rare_rings(df, smiles_column='canonical smiles')\n",
    "    df.to_csv(path, index=False)\n",
    "else:\n",
    "    df = pd.read_csv(path)"
   ]
  },
  {
   "cell_type": "code",
   "execution_count": null,
   "metadata": {},
   "outputs": [],
   "source": [
    "grouped = df.groupby(['Model', 'Dataset'])['rare_ring'].mean().reset_index()\n",
    "sns.barplot(data=grouped, x='Dataset', y='rare_ring', hue='Model', palette=PALETTE, hue_order=ORDER)\n",
    "plt.savefig(os.path.join(FIGURES, 'rare_rings.png'))"
   ]
  }
 ],
 "metadata": {
  "kernelspec": {
   "display_name": "Python 3 (ipykernel)",
   "language": "python",
   "name": "python3"
  },
  "language_info": {
   "codemirror_mode": {
    "name": "ipython",
    "version": 3
   },
   "file_extension": ".py",
   "mimetype": "text/x-python",
   "name": "python",
   "nbconvert_exporter": "python",
   "pygments_lexer": "ipython3",
   "version": "3.10.0"
  }
 },
 "nbformat": 4,
 "nbformat_minor": 4
}
