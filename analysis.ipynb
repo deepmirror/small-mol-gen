{
 "cells": [
  {
   "cell_type": "markdown",
   "metadata": {},
   "source": [
    "# Small molecule generation\n",
    "\n",
    "Please make sure you've add your ANTHROPIC_API_KEY and MOLMIN_API_KEY to a .env file in the root of the project."
   ]
  },
  {
   "cell_type": "code",
   "execution_count": null,
   "metadata": {},
   "outputs": [],
   "source": [
    "import glob\n",
    "import matplotlib.pyplot as plt\n",
    "import numpy as np\n",
    "import pandas as pd\n",
    "import seaborn as sns\n",
    "from rdkit import Chem\n",
    "\n",
    "def plot_boxenplot(df, x, y, hue, title, order):\n",
    "    colours = [\"#B0B1B6\", \"#5359CC\", \"#DA6AF7\", \"#AA6BE0\", \"#F94156\", \"#FBAC3B\", \"#FFFFFF\"]\n",
    "    fig, ax = plt.subplots(figsize=(9, 5))\n",
    "    sns.boxenplot(data=df, x=x, y=y, hue=hue, ax=ax, palette=colours, hue_order=order)\n",
    "    plt.legend(bbox_to_anchor=(1.05, 1), loc=\"upper left\", borderaxespad=0.0)\n",
    "    ax.set_title(title)\n",
    "    plt.tight_layout()\n",
    "    \n",
    "    \n",
    "DATASET_FILE = {\n",
    "    \"a2a\": \"data/adenosineA2A.csv\",\n",
    "    \"aryl\": \"data/Aryl piperazine.csv\",\n",
    "    \"sirt2\": \"data/SIRT2.csv\",\n",
    "}"
   ]
  },
  {
   "cell_type": "markdown",
   "metadata": {},
   "source": [
    "### Run the models\n",
    "Run the run_models.py script to generate new molecules using differnt i.e. MolMim"
   ]
  },
  {
   "cell_type": "code",
   "execution_count": null,
   "metadata": {},
   "outputs": [],
   "source": [
    "!python run_models.py"
   ]
  },
  {
   "cell_type": "markdown",
   "metadata": {},
   "source": [
    "### Post processing and data cleaning\n",
    "Join all the generated output together in one dataframe and remove any bad smiles. "
   ]
  },
  {
   "cell_type": "code",
   "execution_count": null,
   "metadata": {},
   "outputs": [],
   "source": [
    "# Merge all data into a single DataFrame\n",
    "df = pd.concat([pd.read_csv(f) for f in glob.glob(\"output/*.csv\") + DATASET_FILE.values()])\n",
    "df[\"Model\"] = df[\"Model\"].apply(lambda x: x if x else \"original\")\n",
    "\n",
    "\n",
    "# Clean up Smiles for analysis\n",
    "def canonicalize_and_validate_smiles(smiles):\n",
    "    try:\n",
    "        molecule = Chem.MolFromSmiles(smiles)\n",
    "        if molecule:\n",
    "            return Chem.MolToSmiles(molecule)\n",
    "    except:\n",
    "        pass\n",
    "    return np.nan\n",
    "\n",
    "df[\"canonical smiles\"] = df[\"Smiles\"].apply(canonicalize_and_validate_smiles)\n",
    "df = df.dropna(subset=[\"canonical smiles\"])"
   ]
  },
  {
   "cell_type": "markdown",
   "metadata": {},
   "source": [
    "### Visual inspection of generated molecules"
   ]
  },
  {
   "cell_type": "code",
   "execution_count": null,
   "metadata": {},
   "outputs": [],
   "source": [
    "subset = df[df[\"Dataset\"] == \"aryl\"]\n",
    "models = [\"original\", \"crem\", \"molmin\", \"claude\", \"claude_scaffold\", \"reinvent\"]\n",
    "\n",
    "samples = {model: subset[subset[\"Model\"] == model].sample(5, random_state=seed)[\"Smiles\"].values for model in models}\n",
    "molecules = [Chem.MolFromSmiles(val) for tup in zip(*samples.values()) for val in tup]\n",
    "legends = [model.capitalize() if \"_\" not in model else model.replace(\"_\", \" \").capitalize() for model in models] * 5\n",
    "\n",
    "# Draw and save the grid image\n",
    "img = Chem.Draw.MolsToGridImage(molecules, molsPerRow=6, subImgSize=(300, 300), legends=legends, returnPNG=False)\n",
    "\n"
   ]
  },
  {
   "cell_type": "code",
   "execution_count": null,
   "metadata": {},
   "outputs": [],
   "source": [
    "# Plot the results\n",
    "\n",
    "# Calculate Tanimoto Similarities\n",
    "def calculate_tanimoto_similarities(reference_smiles: List[str], original_smiles_list: List[str]) -> List[float]:\n",
    "    ref_fp = Chem.AllChem.GetMorganFingerprintAsBitVect(Chem.MolFromSmiles(reference_smiles), radius=2)\n",
    "    fps_list = [Chem.AllChem.GetMorganFingerprintAsBitVect(Chem.MolFromSmiles(smiles), radius=2) for smiles in original_smiles_list]\n",
    "    return Chem.BulkTanimotoSimilarity(ref_fp, fps_list)\n",
    "\n",
    "\n",
    "df[\"Tanimoto Score\"] = np.nan\n",
    "\n",
    "for dataset in DATASET_FILE.keys():\n",
    "    tmp_df = df[df[\"Dataset\"] == dataset]\n",
    "    original_smiles = tmp_df[tmp_df[\"Model\"] == \"original\"][\"Smiles\"].values\n",
    "    tmp_df[\"Tanimoto Score\"] = tmp_df[\"Smiles\"].apply(lambda smiles: np.max(calculate_tanimoto_similarities(smiles, original_smiles)))\n",
    "    df.update(tmp_df)\n",
    "\n",
    "df.to_csv(os.path.join(\"results\", \"combined_with_tanimoto_scores.csv\"), index=False)\n",
    "\n",
    "# Plotting\n",
    "def plot_boxenplot(df, x, y, hue, title, order):\n",
    "    colours = [\"#B0B1B6\", \"#5359CC\", \"#DA6AF7\", \"#AA6BE0\", \"#F94156\", \"#FBAC3B\", \"#FFFFFF\"]\n",
    "    fig, ax = plt.subplots(figsize=(9, 5))\n",
    "    sns.boxenplot(data=df, x=x, y=y, hue=hue, ax=ax, palette=colours, hue_order=order)\n",
    "    plt.legend(bbox_to_anchor=(1.05, 1), loc=\"upper left\", borderaxespad=0.0)\n",
    "    ax.set_title(title)\n",
    "    plt.tight_layout()\n",
    "\n",
    "\n",
    "order = [\"original\", \"molmin\", \"claude\", \"claude_scaffold\", \"reinvent\", \"crem\"]\n",
    "plot_boxenplot(df, x=\"Dataset\", y=\"Tanimoto Score\", hue=\"Model\", title=\"Tanimoto Similarity Score\", order=order)\n"
   ]
  },
  {
   "cell_type": "code",
   "execution_count": null,
   "metadata": {},
   "outputs": [],
   "source": []
  }
 ],
 "metadata": {
  "kernelspec": {
   "display_name": "Python 3 (ipykernel)",
   "language": "python",
   "name": "python3"
  },
  "language_info": {
   "codemirror_mode": {
    "name": "ipython",
    "version": 3
   },
   "file_extension": ".py",
   "mimetype": "text/x-python",
   "name": "python",
   "nbconvert_exporter": "python",
   "pygments_lexer": "ipython3",
   "version": "3.10.0"
  }
 },
 "nbformat": 4,
 "nbformat_minor": 4
}
